{
  "nbformat": 4,
  "nbformat_minor": 0,
  "metadata": {
    "colab": {
      "provenance": []
    },
    "kernelspec": {
      "name": "python3",
      "display_name": "Python 3"
    },
    "language_info": {
      "name": "python"
    }
  },
  "cells": [
    {
      "cell_type": "markdown",
      "source": [
        "# Data Science Tools and Ecosystem"
      ],
      "metadata": {
        "id": "uj4Pjdgim9gV"
      }
    },
    {
      "cell_type": "markdown",
      "source": [
        "In this notebook, Data Science Tools and Ecosystem are summarized."
      ],
      "metadata": {
        "id": "zC8g0tD_nmnr"
      }
    },
    {
      "cell_type": "markdown",
      "source": [
        "Some of the popular languages that Data Scientists use are:\n",
        "\n",
        "*   Python\n",
        "*   R\n",
        "*   SQL\n",
        "*   Julia"
      ],
      "metadata": {
        "id": "YxJZXhSnnxaf"
      }
    },
    {
      "cell_type": "markdown",
      "source": [
        "Some of the commonly used libraries used by Data Scientists include:\n",
        "\n",
        "1. Pandas\n",
        "2. NumPy\n",
        "3. Scikit-learn\n",
        "4. TensorFlow\n",
        "5. Matplotlib"
      ],
      "metadata": {
        "id": "QIsNlQ0ysO4F"
      }
    },
    {
      "cell_type": "code",
      "source": [],
      "metadata": {
        "id": "IhoF7rS9rlJp"
      },
      "execution_count": null,
      "outputs": []
    },
    {
      "cell_type": "markdown",
      "source": [
        "| Data Science Tools       |\n",
        "|--------------------------|\n",
        "| Jupyter Notebooks         |\n",
        "| RStudio                  |\n",
        "| Apache Zeppelin           |"
      ],
      "metadata": {
        "id": "SmJXkn79om7Z"
      }
    },
    {
      "cell_type": "markdown",
      "source": [
        "### Below are a few examples of evaluating arithmetic expressions in Python"
      ],
      "metadata": {
        "id": "-FtMJugTpNKE"
      }
    },
    {
      "cell_type": "code",
      "execution_count": 1,
      "metadata": {
        "colab": {
          "base_uri": "https://localhost:8080/"
        },
        "id": "tpBXeELPm2Vk",
        "outputId": "7e19b142-a267-4fa8-fdd0-50a6ed64f999"
      },
      "outputs": [
        {
          "output_type": "execute_result",
          "data": {
            "text/plain": [
              "17"
            ]
          },
          "metadata": {},
          "execution_count": 1
        }
      ],
      "source": [
        "#This a simple arithmetic expression to mutiply then add integers.\n",
        "(3*4)+5\n"
      ]
    },
    {
      "cell_type": "code",
      "source": [
        "# This will convert 200 minutes to hours by dividing by 60\n",
        "200/60\n"
      ],
      "metadata": {
        "colab": {
          "base_uri": "https://localhost:8080/"
        },
        "id": "QxTGky2RrMJU",
        "outputId": "2bf40f4b-3193-4ee5-8303-f55fd7aec0b7"
      },
      "execution_count": 3,
      "outputs": [
        {
          "output_type": "execute_result",
          "data": {
            "text/plain": [
              "3.3333333333333335"
            ]
          },
          "metadata": {},
          "execution_count": 3
        }
      ]
    },
    {
      "cell_type": "markdown",
      "source": [
        "**Objectives:**\n",
        "\n",
        "- List popular languages for Data Science.\n",
        "- Describe open-source tools used in Data Science.\n",
        "- Explain the basics of Jupyter Notebooks and their use in Data Science.\n",
        "- Convert units (e.g., minutes to hours) with simple arithmetic expressions.\n",
        "- Discuss various data science libraries and their applications.\n"
      ],
      "metadata": {
        "id": "wtfpaVCMrmSX"
      }
    },
    {
      "cell_type": "markdown",
      "source": [
        "## Author\n",
        "\n",
        "WILMAR CRISTANCHO TRIANA\n"
      ],
      "metadata": {
        "id": "ZRE2YbgktOho"
      }
    }
  ]
}